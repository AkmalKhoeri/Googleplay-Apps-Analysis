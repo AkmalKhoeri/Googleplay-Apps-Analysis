{
 "cells": [
  {
   "cell_type": "markdown",
   "id": "634b0a59",
   "metadata": {},
   "source": [
    "# GooglePlay Apps Analysis"
   ]
  },
  {
   "cell_type": "markdown",
   "id": "0a04c19c",
   "metadata": {},
   "source": [
    "Dataset yang dipakai adalah dataset googleplay yang diambil dari kaggle. Berikut adalah beberapa keterangan mengenai dataset tersebut.\n",
    "1. App : Nama Aplikasi\n",
    "2. Category : Kategori Aplikasi\n",
    "3. Rating : Rating yang diberikan untuk tiap aplikasi\n",
    "4. Reviews : Jumlah review yang diberikan tiap aplikasi\n",
    "5. Size : Ukuran file aplikasi\n",
    "6. Installs : Jumlah penginstal aplikasi\n",
    "7. Type : Tipe aplikasi berbayar atau gratis\n",
    "8. Content Rating : Segmentasi tiap aplikasi\n",
    "9. Genres : Genre aplikasi\n",
    "10. Last Updated : Terakhir kali aplikasi terupdate\n",
    "11. Current Ver : versi terkini aplikasi\n",
    "12. Android Ver : Versi aplikasi di android"
   ]
  },
  {
   "cell_type": "markdown",
   "id": "a79dd409",
   "metadata": {},
   "source": [
    "### Import library dan load data"
   ]
  },
  {
   "cell_type": "code",
   "execution_count": 448,
   "id": "6e8fb17c",
   "metadata": {},
   "outputs": [],
   "source": [
    "#Import Library yang dibutuhkan\n",
    "import pandas as pd\n",
    "import numpy as np\n",
    "import matplotlib.pyplot as plt\n",
    "import seaborn as sns"
   ]
  },
  {
   "cell_type": "code",
   "execution_count": 449,
   "id": "d3a3f188",
   "metadata": {
    "scrolled": false
   },
   "outputs": [
    {
     "data": {
      "text/html": [
       "<div>\n",
       "<style scoped>\n",
       "    .dataframe tbody tr th:only-of-type {\n",
       "        vertical-align: middle;\n",
       "    }\n",
       "\n",
       "    .dataframe tbody tr th {\n",
       "        vertical-align: top;\n",
       "    }\n",
       "\n",
       "    .dataframe thead th {\n",
       "        text-align: right;\n",
       "    }\n",
       "</style>\n",
       "<table border=\"1\" class=\"dataframe\">\n",
       "  <thead>\n",
       "    <tr style=\"text-align: right;\">\n",
       "      <th></th>\n",
       "      <th>App</th>\n",
       "      <th>Category</th>\n",
       "      <th>Rating</th>\n",
       "      <th>Reviews</th>\n",
       "      <th>Size</th>\n",
       "      <th>Installs</th>\n",
       "      <th>Type</th>\n",
       "      <th>Price</th>\n",
       "      <th>Content Rating</th>\n",
       "      <th>Genres</th>\n",
       "      <th>Last Updated</th>\n",
       "      <th>Current Ver</th>\n",
       "      <th>Android Ver</th>\n",
       "    </tr>\n",
       "  </thead>\n",
       "  <tbody>\n",
       "    <tr>\n",
       "      <th>0</th>\n",
       "      <td>Photo Editor &amp; Candy Camera &amp; Grid &amp; ScrapBook</td>\n",
       "      <td>ART_AND_DESIGN</td>\n",
       "      <td>4.1</td>\n",
       "      <td>159</td>\n",
       "      <td>19M</td>\n",
       "      <td>10,000+</td>\n",
       "      <td>Free</td>\n",
       "      <td>0</td>\n",
       "      <td>Everyone</td>\n",
       "      <td>Art &amp; Design</td>\n",
       "      <td>January 7, 2018</td>\n",
       "      <td>1.0.0</td>\n",
       "      <td>4.0.3 and up</td>\n",
       "    </tr>\n",
       "    <tr>\n",
       "      <th>1</th>\n",
       "      <td>Coloring book moana</td>\n",
       "      <td>ART_AND_DESIGN</td>\n",
       "      <td>3.9</td>\n",
       "      <td>967</td>\n",
       "      <td>14M</td>\n",
       "      <td>500,000+</td>\n",
       "      <td>Free</td>\n",
       "      <td>0</td>\n",
       "      <td>Everyone</td>\n",
       "      <td>Art &amp; Design;Pretend Play</td>\n",
       "      <td>January 15, 2018</td>\n",
       "      <td>2.0.0</td>\n",
       "      <td>4.0.3 and up</td>\n",
       "    </tr>\n",
       "    <tr>\n",
       "      <th>2</th>\n",
       "      <td>U Launcher Lite – FREE Live Cool Themes, Hide ...</td>\n",
       "      <td>ART_AND_DESIGN</td>\n",
       "      <td>4.7</td>\n",
       "      <td>87510</td>\n",
       "      <td>8.7M</td>\n",
       "      <td>5,000,000+</td>\n",
       "      <td>Free</td>\n",
       "      <td>0</td>\n",
       "      <td>Everyone</td>\n",
       "      <td>Art &amp; Design</td>\n",
       "      <td>August 1, 2018</td>\n",
       "      <td>1.2.4</td>\n",
       "      <td>4.0.3 and up</td>\n",
       "    </tr>\n",
       "    <tr>\n",
       "      <th>3</th>\n",
       "      <td>Sketch - Draw &amp; Paint</td>\n",
       "      <td>ART_AND_DESIGN</td>\n",
       "      <td>4.5</td>\n",
       "      <td>215644</td>\n",
       "      <td>25M</td>\n",
       "      <td>50,000,000+</td>\n",
       "      <td>Free</td>\n",
       "      <td>0</td>\n",
       "      <td>Teen</td>\n",
       "      <td>Art &amp; Design</td>\n",
       "      <td>June 8, 2018</td>\n",
       "      <td>Varies with device</td>\n",
       "      <td>4.2 and up</td>\n",
       "    </tr>\n",
       "    <tr>\n",
       "      <th>4</th>\n",
       "      <td>Pixel Draw - Number Art Coloring Book</td>\n",
       "      <td>ART_AND_DESIGN</td>\n",
       "      <td>4.3</td>\n",
       "      <td>967</td>\n",
       "      <td>2.8M</td>\n",
       "      <td>100,000+</td>\n",
       "      <td>Free</td>\n",
       "      <td>0</td>\n",
       "      <td>Everyone</td>\n",
       "      <td>Art &amp; Design;Creativity</td>\n",
       "      <td>June 20, 2018</td>\n",
       "      <td>1.1</td>\n",
       "      <td>4.4 and up</td>\n",
       "    </tr>\n",
       "  </tbody>\n",
       "</table>\n",
       "</div>"
      ],
      "text/plain": [
       "                                                 App        Category  Rating  \\\n",
       "0     Photo Editor & Candy Camera & Grid & ScrapBook  ART_AND_DESIGN     4.1   \n",
       "1                                Coloring book moana  ART_AND_DESIGN     3.9   \n",
       "2  U Launcher Lite – FREE Live Cool Themes, Hide ...  ART_AND_DESIGN     4.7   \n",
       "3                              Sketch - Draw & Paint  ART_AND_DESIGN     4.5   \n",
       "4              Pixel Draw - Number Art Coloring Book  ART_AND_DESIGN     4.3   \n",
       "\n",
       "  Reviews  Size     Installs  Type Price Content Rating  \\\n",
       "0     159   19M      10,000+  Free     0       Everyone   \n",
       "1     967   14M     500,000+  Free     0       Everyone   \n",
       "2   87510  8.7M   5,000,000+  Free     0       Everyone   \n",
       "3  215644   25M  50,000,000+  Free     0           Teen   \n",
       "4     967  2.8M     100,000+  Free     0       Everyone   \n",
       "\n",
       "                      Genres      Last Updated         Current Ver  \\\n",
       "0               Art & Design   January 7, 2018               1.0.0   \n",
       "1  Art & Design;Pretend Play  January 15, 2018               2.0.0   \n",
       "2               Art & Design    August 1, 2018               1.2.4   \n",
       "3               Art & Design      June 8, 2018  Varies with device   \n",
       "4    Art & Design;Creativity     June 20, 2018                 1.1   \n",
       "\n",
       "    Android Ver  \n",
       "0  4.0.3 and up  \n",
       "1  4.0.3 and up  \n",
       "2  4.0.3 and up  \n",
       "3    4.2 and up  \n",
       "4    4.4 and up  "
      ]
     },
     "execution_count": 449,
     "metadata": {},
     "output_type": "execute_result"
    }
   ],
   "source": [
    "#Membaca datset googleplaystore\n",
    "df = pd.read_csv('googleplaystore.csv')\n",
    "df.head()"
   ]
  },
  {
   "cell_type": "markdown",
   "id": "dfd1e9b4",
   "metadata": {},
   "source": [
    "### Handling data duplikat"
   ]
  },
  {
   "cell_type": "code",
   "execution_count": 450,
   "id": "6ec99d5b",
   "metadata": {},
   "outputs": [
    {
     "name": "stdout",
     "output_type": "stream",
     "text": [
      "Jumlah data unique pada kolom App 9660\n",
      "Jumlah Keseluruhan raw pada kolom App 10841\n"
     ]
    }
   ],
   "source": [
    "print('Jumlah data unique pada kolom App',df['App'].nunique())\n",
    "print('Jumlah Keseluruhan raw pada kolom App',len(df['App']))"
   ]
  },
  {
   "cell_type": "markdown",
   "id": "cc92f5a0",
   "metadata": {},
   "source": [
    "#### Pada kolom app, terdapat perbedaan pada jumlah data unik dan keselurhan datanya yang menandakan terdapat data duplikat pada kolom App. Untuk mengatasinya data duplikat ini akan dihapus dan diambil data yang terakhir masuk. "
   ]
  },
  {
   "cell_type": "code",
   "execution_count": 451,
   "id": "9327eecf",
   "metadata": {},
   "outputs": [
    {
     "data": {
      "text/plain": [
       "9660"
      ]
     },
     "execution_count": 451,
     "metadata": {},
     "output_type": "execute_result"
    }
   ],
   "source": [
    "#Drop data duplikat\n",
    "df.drop_duplicates(subset='App', keep='first',inplace=True)\n",
    "df['App'].nunique()"
   ]
  },
  {
   "cell_type": "markdown",
   "id": "afbf58e0",
   "metadata": {},
   "source": [
    "#### Cek apakah masih ada selisih antara unique data dengan jemulah raw kolom App"
   ]
  },
  {
   "cell_type": "code",
   "execution_count": 452,
   "id": "e42d9062",
   "metadata": {},
   "outputs": [
    {
     "name": "stdout",
     "output_type": "stream",
     "text": [
      "Jumlah data unique pada kolom App 9660\n",
      "Jumlah Keseluruhan raw pada kolom App 9660\n"
     ]
    }
   ],
   "source": [
    "print('Jumlah data unique pada kolom App',df['App'].nunique())\n",
    "print('Jumlah Keseluruhan raw pada kolom App',len(df['App']))"
   ]
  },
  {
   "cell_type": "markdown",
   "id": "d856a6d9",
   "metadata": {},
   "source": [
    "### Handling Missing Value"
   ]
  },
  {
   "cell_type": "code",
   "execution_count": 453,
   "id": "56ef046d",
   "metadata": {},
   "outputs": [
    {
     "data": {
      "text/plain": [
       "App                  0\n",
       "Category             0\n",
       "Rating            1463\n",
       "Reviews              0\n",
       "Size                 0\n",
       "Installs             0\n",
       "Type                 1\n",
       "Price                0\n",
       "Content Rating       1\n",
       "Genres               0\n",
       "Last Updated         0\n",
       "Current Ver          8\n",
       "Android Ver          3\n",
       "dtype: int64"
      ]
     },
     "execution_count": 453,
     "metadata": {},
     "output_type": "execute_result"
    }
   ],
   "source": [
    "df.isnull().sum()"
   ]
  },
  {
   "cell_type": "markdown",
   "id": "ff3dd723",
   "metadata": {},
   "source": [
    "#### Terdapat missing vlue pada kolom Rating sebanyak 1463, kolom type dan COnten rating sebanyak 1, kolom current ver 8 data, android ver 3 data. Untuk kolom type, content rating, current ver dan android ver missing value akan dihapus dikarenakan data yang hilang hanya sedikit/tidak mencerminkan keselurhan data. Sementara untuk kolom Rating akan diisi dengan suatu nilai."
   ]
  },
  {
   "cell_type": "code",
   "execution_count": 454,
   "id": "5059047e",
   "metadata": {},
   "outputs": [
    {
     "data": {
      "text/plain": [
       "<AxesSubplot:xlabel='Rating', ylabel='Count'>"
      ]
     },
     "execution_count": 454,
     "metadata": {},
     "output_type": "execute_result"
    },
    {
     "data": {
      "image/png": "[encoded data removed]",
      "text/plain": [
       "<Figure size 432x288 with 1 Axes>"
      ]
     },
     "metadata": {},
     "output_type": "display_data"
    }
   ],
   "source": [
    "# Cek distribusi kolom rating\n",
    "sns.histplot(df['Rating'],kde=True)"
   ]
  },
  {
   "cell_type": "markdown",
   "id": "685e4f56",
   "metadata": {},
   "source": [
    "#### Jika dilihat dari distribusi kolom rating, distribusinya condong ke kanan sehingga missing value pada kolom ini bisa diisi dengna nilai mediannya"
   ]
  },
  {
   "cell_type": "code",
   "execution_count": 455,
   "id": "1fac55b1",
   "metadata": {},
   "outputs": [],
   "source": [
    "# Mengisi missing value kolom ratting dengan median kolom tersebut\n",
    "df['Rating'] = df['Rating'].fillna(df['Rating'].median())"
   ]
  },
  {
   "cell_type": "markdown",
   "id": "247bb651",
   "metadata": {},
   "source": [
    "#### Cek apakah masih ada missing value pada data"
   ]
  },
  {
   "cell_type": "code",
   "execution_count": 456,
   "id": "ec2a9010",
   "metadata": {},
   "outputs": [
    {
     "data": {
      "text/plain": [
       "App               0\n",
       "Category          0\n",
       "Rating            0\n",
       "Reviews           0\n",
       "Size              0\n",
       "Installs          0\n",
       "Type              0\n",
       "Price             0\n",
       "Content Rating    0\n",
       "Genres            0\n",
       "Last Updated      0\n",
       "Current Ver       0\n",
       "Android Ver       0\n",
       "dtype: int64"
      ]
     },
     "execution_count": 456,
     "metadata": {},
     "output_type": "execute_result"
    }
   ],
   "source": [
    "df = df.dropna()\n",
    "df.isnull().sum()"
   ]
  },
  {
   "cell_type": "markdown",
   "id": "601f65cf",
   "metadata": {},
   "source": [
    "### Handling tipe data yang tidak sesuai"
   ]
  },
  {
   "cell_type": "code",
   "execution_count": 457,
   "id": "4d441816",
   "metadata": {},
   "outputs": [
    {
     "name": "stdout",
     "output_type": "stream",
     "text": [
      "<class 'pandas.core.frame.DataFrame'>\n",
      "Int64Index: 9648 entries, 0 to 10840\n",
      "Data columns (total 13 columns):\n",
      " #   Column          Non-Null Count  Dtype  \n",
      "---  ------          --------------  -----  \n",
      " 0   App             9648 non-null   object \n",
      " 1   Category        9648 non-null   object \n",
      " 2   Rating          9648 non-null   float64\n",
      " 3   Reviews         9648 non-null   object \n",
      " 4   Size            9648 non-null   object \n",
      " 5   Installs        9648 non-null   object \n",
      " 6   Type            9648 non-null   object \n",
      " 7   Price           9648 non-null   object \n",
      " 8   Content Rating  9648 non-null   object \n",
      " 9   Genres          9648 non-null   object \n",
      " 10  Last Updated    9648 non-null   object \n",
      " 11  Current Ver     9648 non-null   object \n",
      " 12  Android Ver     9648 non-null   object \n",
      "dtypes: float64(1), object(12)\n",
      "memory usage: 1.0+ MB\n"
     ]
    }
   ],
   "source": [
    "#cek tipe data semua kolom\n",
    "df.info()"
   ]
  },
  {
   "cell_type": "markdown",
   "id": "d6ff29f9",
   "metadata": {},
   "source": [
    "#### Kolom price merupakan kolom harga tiap aplikasi. Kolom ini harusnya bertipe numeric. Tetapi pada data kolom tersebut bertipe object sehingga perlu dikonversikan terlebih dahulu."
   ]
  },
  {
   "cell_type": "code",
   "execution_count": 458,
   "id": "a7417a63",
   "metadata": {},
   "outputs": [
    {
     "data": {
      "text/plain": [
       "array(['0', '$4.99', '$3.99', '$6.99', '$1.49', '$2.99', '$7.99', '$5.99',\n",
       "       '$3.49', '$1.99', '$9.99', '$7.49', '$0.99', '$9.00', '$5.49',\n",
       "       '$10.00', '$24.99', '$11.99', '$79.99', '$16.99', '$14.99',\n",
       "       '$1.00', '$29.99', '$12.99', '$2.49', '$10.99', '$1.50', '$19.99',\n",
       "       '$15.99', '$33.99', '$74.99', '$39.99', '$3.95', '$4.49', '$1.70',\n",
       "       '$8.99', '$2.00', '$3.88', '$25.99', '$399.99', '$17.99',\n",
       "       '$400.00', '$3.02', '$1.76', '$4.84', '$4.77', '$1.61', '$2.50',\n",
       "       '$1.59', '$6.49', '$1.29', '$5.00', '$13.99', '$299.99', '$379.99',\n",
       "       '$37.99', '$18.99', '$389.99', '$19.90', '$8.49', '$1.75',\n",
       "       '$14.00', '$4.85', '$46.99', '$109.99', '$154.99', '$3.08',\n",
       "       '$2.59', '$4.80', '$1.96', '$19.40', '$3.90', '$4.59', '$15.46',\n",
       "       '$3.04', '$4.29', '$2.60', '$3.28', '$4.60', '$28.99', '$2.95',\n",
       "       '$2.90', '$1.97', '$200.00', '$89.99', '$2.56', '$30.99', '$3.61',\n",
       "       '$394.99', '$1.26', '$1.20', '$1.04'], dtype=object)"
      ]
     },
     "execution_count": 458,
     "metadata": {},
     "output_type": "execute_result"
    }
   ],
   "source": [
    "### Cek unique data pada kolom price\n",
    "df['Price'].unique()"
   ]
  },
  {
   "cell_type": "markdown",
   "id": "f628b5d2",
   "metadata": {},
   "source": [
    "#### Untuk merubah kolom price menjadi numeric, karakter $ harus dihilangkan terlebih dahulu."
   ]
  },
  {
   "cell_type": "code",
   "execution_count": 459,
   "id": "6465becc",
   "metadata": {},
   "outputs": [
    {
     "data": {
      "text/plain": [
       "array([  0.  ,   4.99,   3.99,   6.99,   1.49,   2.99,   7.99,   5.99,\n",
       "         3.49,   1.99,   9.99,   7.49,   0.99,   9.  ,   5.49,  10.  ,\n",
       "        24.99,  11.99,  79.99,  16.99,  14.99,   1.  ,  29.99,  12.99,\n",
       "         2.49,  10.99,   1.5 ,  19.99,  15.99,  33.99,  74.99,  39.99,\n",
       "         3.95,   4.49,   1.7 ,   8.99,   2.  ,   3.88,  25.99, 399.99,\n",
       "        17.99, 400.  ,   3.02,   1.76,   4.84,   4.77,   1.61,   2.5 ,\n",
       "         1.59,   6.49,   1.29,   5.  ,  13.99, 299.99, 379.99,  37.99,\n",
       "        18.99, 389.99,  19.9 ,   8.49,   1.75,  14.  ,   4.85,  46.99,\n",
       "       109.99, 154.99,   3.08,   2.59,   4.8 ,   1.96,  19.4 ,   3.9 ,\n",
       "         4.59,  15.46,   3.04,   4.29,   2.6 ,   3.28,   4.6 ,  28.99,\n",
       "         2.95,   2.9 ,   1.97, 200.  ,  89.99,   2.56,  30.99,   3.61,\n",
       "       394.99,   1.26,   1.2 ,   1.04])"
      ]
     },
     "execution_count": 459,
     "metadata": {},
     "output_type": "execute_result"
    }
   ],
   "source": [
    "# Menghilangkan karakter $ \n",
    "df['Price'] = df['Price'].str.replace(r'^(\\$)', '', regex=True)\n",
    "\n",
    "# Konversi tipe data menjadi float\n",
    "df['Price'] = df['Price'].astype(float)\n",
    "df['Price'].unique()"
   ]
  },
  {
   "cell_type": "markdown",
   "id": "cf6c5bf4",
   "metadata": {},
   "source": [
    "#### Kolom reviews juga merupakan kolom dengan tipe data yang tidak sesuai karena seharusnya tipe data pada kolom ini adalah numeric. Sehingga perlu dikonversikan terlebih dahulu."
   ]
  },
  {
   "cell_type": "code",
   "execution_count": 460,
   "id": "e967860b",
   "metadata": {},
   "outputs": [
    {
     "data": {
      "text/plain": [
       "5328"
      ]
     },
     "execution_count": 460,
     "metadata": {},
     "output_type": "execute_result"
    }
   ],
   "source": [
    "# Konversi tipe data menjadi integer\n",
    "df['Reviews'] = df['Reviews'].astype(int)\n",
    "df['Reviews'].nunique()"
   ]
  },
  {
   "cell_type": "markdown",
   "id": "74401ba8",
   "metadata": {},
   "source": [
    "#### Kolom Install juga merupakan kolom dengan tipe data yang tidak sesuai karena seharusnya tipe data pada kolom ini adalah numeric. Sehingga perlu dikonversikan terlebih dahulu."
   ]
  },
  {
   "cell_type": "code",
   "execution_count": 461,
   "id": "9e320f2e",
   "metadata": {},
   "outputs": [
    {
     "data": {
      "text/plain": [
       "array(['10,000+', '500,000+', '5,000,000+', '50,000,000+', '100,000+',\n",
       "       '50,000+', '1,000,000+', '10,000,000+', '5,000+', '100,000,000+',\n",
       "       '1,000,000,000+', '1,000+', '500,000,000+', '50+', '100+', '500+',\n",
       "       '10+', '1+', '5+', '0+'], dtype=object)"
      ]
     },
     "execution_count": 461,
     "metadata": {},
     "output_type": "execute_result"
    }
   ],
   "source": [
    "# Cek unique data pada kolom price\n",
    "df['Installs'].unique()"
   ]
  },
  {
   "cell_type": "code",
   "execution_count": 462,
   "id": "fd23d83c",
   "metadata": {},
   "outputs": [
    {
     "data": {
      "text/plain": [
       "array([     10000,     500000,    5000000,   50000000,     100000,\n",
       "            50000,    1000000,   10000000,       5000,  100000000,\n",
       "       1000000000,       1000,  500000000,         50,        100,\n",
       "              500,         10,          1,          5,          0])"
      ]
     },
     "execution_count": 462,
     "metadata": {},
     "output_type": "execute_result"
    }
   ],
   "source": [
    "# Menghilangkan karakter + dan ,\n",
    "df['Installs'] = df['Installs'].str.replace(r'(\\+|\\,)', '', regex=True)\n",
    "# Konversi tipe data menjadi integer\n",
    "df['Installs'] = df['Installs'].astype(int)\n",
    "df['Installs'].unique()"
   ]
  },
  {
   "cell_type": "code",
   "execution_count": 463,
   "id": "53cd3553",
   "metadata": {},
   "outputs": [
    {
     "name": "stdout",
     "output_type": "stream",
     "text": [
      "<class 'pandas.core.frame.DataFrame'>\n",
      "Int64Index: 9648 entries, 0 to 10840\n",
      "Data columns (total 13 columns):\n",
      " #   Column          Non-Null Count  Dtype  \n",
      "---  ------          --------------  -----  \n",
      " 0   App             9648 non-null   object \n",
      " 1   Category        9648 non-null   object \n",
      " 2   Rating          9648 non-null   float64\n",
      " 3   Reviews         9648 non-null   int32  \n",
      " 4   Size            9648 non-null   object \n",
      " 5   Installs        9648 non-null   int32  \n",
      " 6   Type            9648 non-null   object \n",
      " 7   Price           9648 non-null   float64\n",
      " 8   Content Rating  9648 non-null   object \n",
      " 9   Genres          9648 non-null   object \n",
      " 10  Last Updated    9648 non-null   object \n",
      " 11  Current Ver     9648 non-null   object \n",
      " 12  Android Ver     9648 non-null   object \n",
      "dtypes: float64(2), int32(2), object(9)\n",
      "memory usage: 979.9+ KB\n"
     ]
    }
   ],
   "source": [
    "df.info()"
   ]
  },
  {
   "cell_type": "markdown",
   "id": "4a40ec1a",
   "metadata": {},
   "source": [
    "### TOP Kategori berdasarkan kolom Rating"
   ]
  },
  {
   "cell_type": "code",
   "execution_count": 464,
   "id": "d1ea6a5a",
   "metadata": {},
   "outputs": [
    {
     "data": {
      "text/html": [
       "<div>\n",
       "<style scoped>\n",
       "    .dataframe tbody tr th:only-of-type {\n",
       "        vertical-align: middle;\n",
       "    }\n",
       "\n",
       "    .dataframe tbody tr th {\n",
       "        vertical-align: top;\n",
       "    }\n",
       "\n",
       "    .dataframe thead th {\n",
       "        text-align: right;\n",
       "    }\n",
       "</style>\n",
       "<table border=\"1\" class=\"dataframe\">\n",
       "  <thead>\n",
       "    <tr style=\"text-align: right;\">\n",
       "      <th></th>\n",
       "      <th>Category</th>\n",
       "      <th>Installs</th>\n",
       "      <th>Price</th>\n",
       "      <th>Rating</th>\n",
       "      <th>Reviews</th>\n",
       "    </tr>\n",
       "  </thead>\n",
       "  <tbody>\n",
       "    <tr>\n",
       "      <th>0</th>\n",
       "      <td>ART_AND_DESIGN</td>\n",
       "      <td>1.143331e+08</td>\n",
       "      <td>0.094762</td>\n",
       "      <td>4.373016</td>\n",
       "      <td>1419148</td>\n",
       "    </tr>\n",
       "    <tr>\n",
       "      <th>1</th>\n",
       "      <td>AUTO_AND_VEHICLES</td>\n",
       "      <td>5.313021e+07</td>\n",
       "      <td>0.158471</td>\n",
       "      <td>4.205882</td>\n",
       "      <td>1163666</td>\n",
       "    </tr>\n",
       "    <tr>\n",
       "      <th>2</th>\n",
       "      <td>BEAUTY</td>\n",
       "      <td>2.719705e+07</td>\n",
       "      <td>0.000000</td>\n",
       "      <td>4.283019</td>\n",
       "      <td>396240</td>\n",
       "    </tr>\n",
       "    <tr>\n",
       "      <th>3</th>\n",
       "      <td>BOOKS_AND_REFERENCE</td>\n",
       "      <td>1.665969e+09</td>\n",
       "      <td>0.541946</td>\n",
       "      <td>4.334389</td>\n",
       "      <td>16721306</td>\n",
       "    </tr>\n",
       "    <tr>\n",
       "      <th>4</th>\n",
       "      <td>BUSINESS</td>\n",
       "      <td>6.971649e+08</td>\n",
       "      <td>0.417357</td>\n",
       "      <td>4.173810</td>\n",
       "      <td>9890245</td>\n",
       "    </tr>\n",
       "    <tr>\n",
       "      <th>5</th>\n",
       "      <td>COMICS</td>\n",
       "      <td>4.498115e+07</td>\n",
       "      <td>0.000000</td>\n",
       "      <td>4.185714</td>\n",
       "      <td>2342071</td>\n",
       "    </tr>\n",
       "    <tr>\n",
       "      <th>6</th>\n",
       "      <td>COMMUNICATION</td>\n",
       "      <td>1.103828e+10</td>\n",
       "      <td>0.263937</td>\n",
       "      <td>4.154921</td>\n",
       "      <td>285811368</td>\n",
       "    </tr>\n",
       "    <tr>\n",
       "      <th>7</th>\n",
       "      <td>DATING</td>\n",
       "      <td>1.409261e+08</td>\n",
       "      <td>0.160468</td>\n",
       "      <td>4.041520</td>\n",
       "      <td>3623544</td>\n",
       "    </tr>\n",
       "    <tr>\n",
       "      <th>8</th>\n",
       "      <td>EDUCATION</td>\n",
       "      <td>3.529520e+08</td>\n",
       "      <td>0.150924</td>\n",
       "      <td>4.363866</td>\n",
       "      <td>13364148</td>\n",
       "    </tr>\n",
       "    <tr>\n",
       "      <th>9</th>\n",
       "      <td>ENTERTAINMENT</td>\n",
       "      <td>2.113660e+09</td>\n",
       "      <td>0.078235</td>\n",
       "      <td>4.135294</td>\n",
       "      <td>34762650</td>\n",
       "    </tr>\n",
       "    <tr>\n",
       "      <th>10</th>\n",
       "      <td>EVENTS</td>\n",
       "      <td>1.597316e+07</td>\n",
       "      <td>1.718594</td>\n",
       "      <td>4.395313</td>\n",
       "      <td>161018</td>\n",
       "    </tr>\n",
       "    <tr>\n",
       "      <th>11</th>\n",
       "      <td>FAMILY</td>\n",
       "      <td>4.427881e+09</td>\n",
       "      <td>1.312292</td>\n",
       "      <td>4.194311</td>\n",
       "      <td>143825265</td>\n",
       "    </tr>\n",
       "    <tr>\n",
       "      <th>12</th>\n",
       "      <td>FINANCE</td>\n",
       "      <td>4.553487e+08</td>\n",
       "      <td>8.408203</td>\n",
       "      <td>4.138551</td>\n",
       "      <td>12662106</td>\n",
       "    </tr>\n",
       "    <tr>\n",
       "      <th>13</th>\n",
       "      <td>FOOD_AND_DRINK</td>\n",
       "      <td>2.117988e+08</td>\n",
       "      <td>0.075714</td>\n",
       "      <td>4.192857</td>\n",
       "      <td>6325028</td>\n",
       "    </tr>\n",
       "    <tr>\n",
       "      <th>14</th>\n",
       "      <td>GAME</td>\n",
       "      <td>1.387892e+10</td>\n",
       "      <td>0.296465</td>\n",
       "      <td>4.249948</td>\n",
       "      <td>622298709</td>\n",
       "    </tr>\n",
       "    <tr>\n",
       "      <th>15</th>\n",
       "      <td>HEALTH_AND_FITNESS</td>\n",
       "      <td>1.144023e+09</td>\n",
       "      <td>0.223438</td>\n",
       "      <td>4.251736</td>\n",
       "      <td>21361355</td>\n",
       "    </tr>\n",
       "    <tr>\n",
       "      <th>16</th>\n",
       "      <td>HOUSE_AND_HOME</td>\n",
       "      <td>9.721246e+07</td>\n",
       "      <td>0.000000</td>\n",
       "      <td>4.174324</td>\n",
       "      <td>1929847</td>\n",
       "    </tr>\n",
       "    <tr>\n",
       "      <th>17</th>\n",
       "      <td>LIBRARIES_AND_DEMO</td>\n",
       "      <td>5.199591e+07</td>\n",
       "      <td>0.011928</td>\n",
       "      <td>4.208434</td>\n",
       "      <td>886686</td>\n",
       "    </tr>\n",
       "    <tr>\n",
       "      <th>18</th>\n",
       "      <td>LIFESTYLE</td>\n",
       "      <td>5.038235e+08</td>\n",
       "      <td>6.398022</td>\n",
       "      <td>4.131436</td>\n",
       "      <td>11832671</td>\n",
       "    </tr>\n",
       "    <tr>\n",
       "      <th>19</th>\n",
       "      <td>MAPS_AND_NAVIGATION</td>\n",
       "      <td>5.032819e+08</td>\n",
       "      <td>0.205725</td>\n",
       "      <td>4.062595</td>\n",
       "      <td>17729148</td>\n",
       "    </tr>\n",
       "    <tr>\n",
       "      <th>20</th>\n",
       "      <td>MEDICAL</td>\n",
       "      <td>3.819318e+07</td>\n",
       "      <td>2.520759</td>\n",
       "      <td>4.202025</td>\n",
       "      <td>1182971</td>\n",
       "    </tr>\n",
       "    <tr>\n",
       "      <th>21</th>\n",
       "      <td>NEWS_AND_MAGAZINES</td>\n",
       "      <td>2.369218e+09</td>\n",
       "      <td>0.015669</td>\n",
       "      <td>4.156693</td>\n",
       "      <td>23130228</td>\n",
       "    </tr>\n",
       "    <tr>\n",
       "      <th>22</th>\n",
       "      <td>PARENTING</td>\n",
       "      <td>3.152111e+07</td>\n",
       "      <td>0.159667</td>\n",
       "      <td>4.300000</td>\n",
       "      <td>958331</td>\n",
       "    </tr>\n",
       "    <tr>\n",
       "      <th>23</th>\n",
       "      <td>PERSONALIZATION</td>\n",
       "      <td>1.532484e+09</td>\n",
       "      <td>0.398369</td>\n",
       "      <td>4.324866</td>\n",
       "      <td>53542661</td>\n",
       "    </tr>\n",
       "    <tr>\n",
       "      <th>24</th>\n",
       "      <td>PHOTOGRAPHY</td>\n",
       "      <td>4.649148e+09</td>\n",
       "      <td>0.420925</td>\n",
       "      <td>4.166548</td>\n",
       "      <td>105351270</td>\n",
       "    </tr>\n",
       "    <tr>\n",
       "      <th>25</th>\n",
       "      <td>PRODUCTIVITY</td>\n",
       "      <td>5.793091e+09</td>\n",
       "      <td>0.670936</td>\n",
       "      <td>4.206150</td>\n",
       "      <td>55590649</td>\n",
       "    </tr>\n",
       "    <tr>\n",
       "      <th>26</th>\n",
       "      <td>SHOPPING</td>\n",
       "      <td>1.400349e+09</td>\n",
       "      <td>0.027129</td>\n",
       "      <td>4.237624</td>\n",
       "      <td>44551730</td>\n",
       "    </tr>\n",
       "    <tr>\n",
       "      <th>27</th>\n",
       "      <td>SOCIAL</td>\n",
       "      <td>5.487868e+09</td>\n",
       "      <td>0.066820</td>\n",
       "      <td>4.255230</td>\n",
       "      <td>227927801</td>\n",
       "    </tr>\n",
       "    <tr>\n",
       "      <th>28</th>\n",
       "      <td>SPORTS</td>\n",
       "      <td>1.096474e+09</td>\n",
       "      <td>0.307692</td>\n",
       "      <td>4.232923</td>\n",
       "      <td>35348813</td>\n",
       "    </tr>\n",
       "    <tr>\n",
       "      <th>29</th>\n",
       "      <td>TOOLS</td>\n",
       "      <td>8.001272e+09</td>\n",
       "      <td>0.322739</td>\n",
       "      <td>4.073455</td>\n",
       "      <td>229352567</td>\n",
       "    </tr>\n",
       "    <tr>\n",
       "      <th>30</th>\n",
       "      <td>TRAVEL_AND_LOCAL</td>\n",
       "      <td>2.894887e+09</td>\n",
       "      <td>0.228082</td>\n",
       "      <td>4.103196</td>\n",
       "      <td>26819741</td>\n",
       "    </tr>\n",
       "    <tr>\n",
       "      <th>31</th>\n",
       "      <td>VIDEO_PLAYERS</td>\n",
       "      <td>3.926903e+09</td>\n",
       "      <td>0.064172</td>\n",
       "      <td>4.068098</td>\n",
       "      <td>67484568</td>\n",
       "    </tr>\n",
       "    <tr>\n",
       "      <th>32</th>\n",
       "      <td>WEATHER</td>\n",
       "      <td>3.611005e+08</td>\n",
       "      <td>0.410380</td>\n",
       "      <td>4.248101</td>\n",
       "      <td>12295164</td>\n",
       "    </tr>\n",
       "  </tbody>\n",
       "</table>\n",
       "</div>"
      ],
      "text/plain": [
       "               Category      Installs     Price    Rating    Reviews\n",
       "0        ART_AND_DESIGN  1.143331e+08  0.094762  4.373016    1419148\n",
       "1     AUTO_AND_VEHICLES  5.313021e+07  0.158471  4.205882    1163666\n",
       "2                BEAUTY  2.719705e+07  0.000000  4.283019     396240\n",
       "3   BOOKS_AND_REFERENCE  1.665969e+09  0.541946  4.334389   16721306\n",
       "4              BUSINESS  6.971649e+08  0.417357  4.173810    9890245\n",
       "5                COMICS  4.498115e+07  0.000000  4.185714    2342071\n",
       "6         COMMUNICATION  1.103828e+10  0.263937  4.154921  285811368\n",
       "7                DATING  1.409261e+08  0.160468  4.041520    3623544\n",
       "8             EDUCATION  3.529520e+08  0.150924  4.363866   13364148\n",
       "9         ENTERTAINMENT  2.113660e+09  0.078235  4.135294   34762650\n",
       "10               EVENTS  1.597316e+07  1.718594  4.395313     161018\n",
       "11               FAMILY  4.427881e+09  1.312292  4.194311  143825265\n",
       "12              FINANCE  4.553487e+08  8.408203  4.138551   12662106\n",
       "13       FOOD_AND_DRINK  2.117988e+08  0.075714  4.192857    6325028\n",
       "14                 GAME  1.387892e+10  0.296465  4.249948  622298709\n",
       "15   HEALTH_AND_FITNESS  1.144023e+09  0.223438  4.251736   21361355\n",
       "16       HOUSE_AND_HOME  9.721246e+07  0.000000  4.174324    1929847\n",
       "17   LIBRARIES_AND_DEMO  5.199591e+07  0.011928  4.208434     886686\n",
       "18            LIFESTYLE  5.038235e+08  6.398022  4.131436   11832671\n",
       "19  MAPS_AND_NAVIGATION  5.032819e+08  0.205725  4.062595   17729148\n",
       "20              MEDICAL  3.819318e+07  2.520759  4.202025    1182971\n",
       "21   NEWS_AND_MAGAZINES  2.369218e+09  0.015669  4.156693   23130228\n",
       "22            PARENTING  3.152111e+07  0.159667  4.300000     958331\n",
       "23      PERSONALIZATION  1.532484e+09  0.398369  4.324866   53542661\n",
       "24          PHOTOGRAPHY  4.649148e+09  0.420925  4.166548  105351270\n",
       "25         PRODUCTIVITY  5.793091e+09  0.670936  4.206150   55590649\n",
       "26             SHOPPING  1.400349e+09  0.027129  4.237624   44551730\n",
       "27               SOCIAL  5.487868e+09  0.066820  4.255230  227927801\n",
       "28               SPORTS  1.096474e+09  0.307692  4.232923   35348813\n",
       "29                TOOLS  8.001272e+09  0.322739  4.073455  229352567\n",
       "30     TRAVEL_AND_LOCAL  2.894887e+09  0.228082  4.103196   26819741\n",
       "31        VIDEO_PLAYERS  3.926903e+09  0.064172  4.068098   67484568\n",
       "32              WEATHER  3.611005e+08  0.410380  4.248101   12295164"
      ]
     },
     "execution_count": 464,
     "metadata": {},
     "output_type": "execute_result"
    }
   ],
   "source": [
    "# Membuat pivot tabel berdasarkan kolom kategori\n",
    "top_cat = pd.pivot_table(df,index=['Category'],\n",
    "                    aggfunc ={\n",
    "                    'Rating':'mean',\n",
    "                    'Price' :'mean',\n",
    "                    'Reviews' : 'sum',\n",
    "                    'Installs' :'sum'\n",
    "                    }).reset_index()\n",
    "top_cat"
   ]
  },
  {
   "cell_type": "code",
   "execution_count": 465,
   "id": "6ae858ab",
   "metadata": {},
   "outputs": [
    {
     "data": {
      "text/html": [
       "<div>\n",
       "<style scoped>\n",
       "    .dataframe tbody tr th:only-of-type {\n",
       "        vertical-align: middle;\n",
       "    }\n",
       "\n",
       "    .dataframe tbody tr th {\n",
       "        vertical-align: top;\n",
       "    }\n",
       "\n",
       "    .dataframe thead th {\n",
       "        text-align: right;\n",
       "    }\n",
       "</style>\n",
       "<table border=\"1\" class=\"dataframe\">\n",
       "  <thead>\n",
       "    <tr style=\"text-align: right;\">\n",
       "      <th></th>\n",
       "      <th>Category</th>\n",
       "      <th>Installs</th>\n",
       "      <th>Price</th>\n",
       "      <th>Rating</th>\n",
       "      <th>Reviews</th>\n",
       "    </tr>\n",
       "  </thead>\n",
       "  <tbody>\n",
       "    <tr>\n",
       "      <th>10</th>\n",
       "      <td>EVENTS</td>\n",
       "      <td>1.597316e+07</td>\n",
       "      <td>1.718594</td>\n",
       "      <td>4.395313</td>\n",
       "      <td>161018</td>\n",
       "    </tr>\n",
       "    <tr>\n",
       "      <th>0</th>\n",
       "      <td>ART_AND_DESIGN</td>\n",
       "      <td>1.143331e+08</td>\n",
       "      <td>0.094762</td>\n",
       "      <td>4.373016</td>\n",
       "      <td>1419148</td>\n",
       "    </tr>\n",
       "    <tr>\n",
       "      <th>8</th>\n",
       "      <td>EDUCATION</td>\n",
       "      <td>3.529520e+08</td>\n",
       "      <td>0.150924</td>\n",
       "      <td>4.363866</td>\n",
       "      <td>13364148</td>\n",
       "    </tr>\n",
       "    <tr>\n",
       "      <th>3</th>\n",
       "      <td>BOOKS_AND_REFERENCE</td>\n",
       "      <td>1.665969e+09</td>\n",
       "      <td>0.541946</td>\n",
       "      <td>4.334389</td>\n",
       "      <td>16721306</td>\n",
       "    </tr>\n",
       "    <tr>\n",
       "      <th>23</th>\n",
       "      <td>PERSONALIZATION</td>\n",
       "      <td>1.532484e+09</td>\n",
       "      <td>0.398369</td>\n",
       "      <td>4.324866</td>\n",
       "      <td>53542661</td>\n",
       "    </tr>\n",
       "  </tbody>\n",
       "</table>\n",
       "</div>"
      ],
      "text/plain": [
       "               Category      Installs     Price    Rating   Reviews\n",
       "10               EVENTS  1.597316e+07  1.718594  4.395313    161018\n",
       "0        ART_AND_DESIGN  1.143331e+08  0.094762  4.373016   1419148\n",
       "8             EDUCATION  3.529520e+08  0.150924  4.363866  13364148\n",
       "3   BOOKS_AND_REFERENCE  1.665969e+09  0.541946  4.334389  16721306\n",
       "23      PERSONALIZATION  1.532484e+09  0.398369  4.324866  53542661"
      ]
     },
     "execution_count": 465,
     "metadata": {},
     "output_type": "execute_result"
    }
   ],
   "source": [
    "# Menurutkan top 5 kategori berdasarkan ratingnya\n",
    "top_cat = top_cat.sort_values('Rating',ascending=False).head(5)\n",
    "top_cat"
   ]
  },
  {
   "cell_type": "code",
   "execution_count": 466,
   "id": "89ae801f",
   "metadata": {},
   "outputs": [
    {
     "data": {
      "text/plain": [
       "['EVENTS',\n",
       " 'ART_AND_DESIGN',\n",
       " 'EDUCATION',\n",
       " 'BOOKS_AND_REFERENCE',\n",
       " 'PERSONALIZATION']"
      ]
     },
     "execution_count": 466,
     "metadata": {},
     "output_type": "execute_result"
    }
   ],
   "source": [
    "cat = top_cat['Category'].unique().tolist()\n",
    "cat"
   ]
  },
  {
   "cell_type": "code",
   "execution_count": 467,
   "id": "b37bc1eb",
   "metadata": {},
   "outputs": [
    {
     "name": "stderr",
     "output_type": "stream",
     "text": [
      "No handles with labels found to put in legend.\n",
      "No handles with labels found to put in legend.\n",
      "No handles with labels found to put in legend.\n",
      "No handles with labels found to put in legend.\n"
     ]
    },
    {
     "data": {
      "image/png": "[encoded data removed]",
      "text/plain": [
       "<Figure size 1152x864 with 4 Axes>"
      ]
     },
     "metadata": {},
     "output_type": "display_data"
    }
   ],
   "source": [
    "# Visualisasi top 5 kategori berdasarkan ratingnya\n",
    "plt.rcParams['axes.labelsize'] = 12\n",
    "\n",
    "_, axes = plt.subplots(nrows=2, ncols=2, figsize=(16, 12))\n",
    "\n",
    "# Plot 1: Rating\n",
    "sns.barplot(x='Category', y='Rating', data=top_cat.sort_values('Rating', ascending=False).head(5), palette='magma',  ax=axes[0, 0])\n",
    "axes[0, 0].set_xticklabels(axes[0, 0].get_xticklabels(), rotation=45)\n",
    "axes[0, 0].set_title(\"Rating vs. Category\")\n",
    "axes[0, 0].set_xlabel('Category')\n",
    "axes[0, 0].set_ylabel('Rating')\n",
    "axes[0, 0].grid(axis='y', linestyle='--')\n",
    "axes[0, 0].legend(loc='upper right')\n",
    "\n",
    "# Add label values for Plot 1\n",
    "for p in axes[0, 0].patches:\n",
    "    height = p.get_height()\n",
    "    axes[0, 0].annotate(f'{height:.2f}', xy=(p.get_x() + p.get_width() / 2, height), xytext=(0, 3),\n",
    "                        textcoords=\"offset points\", ha='center', va='bottom')\n",
    "\n",
    "# Plot 2: Installs\n",
    "sns.barplot(x='Category', y='Installs', data=top_cat.sort_values('Installs', ascending=False), palette='magma', ax=axes[0, 1])\n",
    "axes[0, 1].set_xticklabels(axes[0, 1].get_xticklabels(), rotation=45)\n",
    "axes[0, 1].set_title(\"Installs vs. Category\")\n",
    "axes[0, 1].set_xlabel('Category')\n",
    "axes[0, 1].set_ylabel('Installs')\n",
    "axes[0, 1].grid(axis='y', linestyle='--')\n",
    "axes[0, 1].legend(loc='upper right')\n",
    "\n",
    "# Add label values for Plot 2\n",
    "for p in axes[0, 1].patches:\n",
    "    height = p.get_height()\n",
    "    axes[0, 1].annotate(f'{height:.2f}', xy=(p.get_x() + p.get_width() / 2, height), xytext=(0, 3),\n",
    "                        textcoords=\"offset points\", ha='center', va='bottom')\n",
    "\n",
    "# Plot 3: Price\n",
    "sns.barplot(x='Category', y='Price', data=top_cat.sort_values('Price', ascending=False), palette='magma', ax=axes[1, 0])\n",
    "axes[1, 0].set_xticklabels(axes[1, 0].get_xticklabels(), rotation=45)\n",
    "axes[1, 0].set_title(\"Price vs. Category\")\n",
    "axes[1, 0].set_xlabel('Category')\n",
    "axes[1, 0].set_ylabel('Price')\n",
    "axes[1, 0].grid(axis='y', linestyle='--')\n",
    "axes[1, 0].legend(loc='upper right')\n",
    "\n",
    "# Add label values for Plot 3\n",
    "for p in axes[1, 0].patches:\n",
    "    height = p.get_height()\n",
    "    axes[1, 0].annotate(f'{height:.2f}', xy=(p.get_x() + p.get_width() / 2, height), xytext=(0, 3),\n",
    "                        textcoords=\"offset points\", ha='center', va='bottom')\n",
    "\n",
    "# Plot 4: Reviews\n",
    "sns.barplot(x='Category', y='Reviews', data=top_cat.sort_values('Reviews', ascending=False), palette='magma', ax=axes[1, 1])\n",
    "axes[1, 1].set_xticklabels(axes[1, 1].get_xticklabels(), rotation=45)\n",
    "axes[1, 1].set_title(\"Reviews vs. Category\")\n",
    "axes[1, 1].set_xlabel('Category')\n",
    "axes[1, 1].set_ylabel('Reviews')\n",
    "axes[1, 1].grid(axis='y', linestyle='--')\n",
    "axes[1, 1].legend(loc='upper right')\n",
    "\n",
    "# Add label values for Plot 4\n",
    "for p in axes[1, 1].patches:\n",
    "    height = p.get_height()\n",
    "    axes[1, 1].annotate(f'{height:.2f}', xy=(p.get_x() + p.get_width() / 2, height), xytext=(0, 3),\n",
    "                        textcoords=\"offset points\", ha='center', va='bottom')\n",
    "\n",
    "# Adjust the layout\n",
    "plt.tight_layout()\n",
    "\n",
    "plt.show()\n"
   ]
  },
  {
   "cell_type": "markdown",
   "id": "ea91bfb4",
   "metadata": {},
   "source": [
    "#### 5 Kategori aplikasi dengan rating tertinggi adalah events, art and design, education, books and refference serta personalization dengan nilai rata-rata rating diatas 4.\n",
    "#### Dari ke 5 kategori ini , yang memiliki jumlah penginstalls terbanyak adalah aplikasi dengan kategori books and refference. Sementara jumlah  penginstal paling sedikit dimiliki oleh aplikasi dengna kategori events.\n",
    "#### Jika dilihat dari harga-harga rata-rata tiap aplikasinya, kategori event memiliki rata-rata harga yang paling tinggi dengan nilai sebesar 1.72 dolar. Hal inilah yang mungkin membuat jumlah penginstal aplikasi kategori events sangat kecil dibanding dengan top kategori lainnya."
   ]
  },
  {
   "cell_type": "markdown",
   "id": "6543fe0d",
   "metadata": {},
   "source": [
    "#### Sementara untuk menganalisis bagaimana review tiap kategori kita memerlukan data baru bernama googleplaystore_user_reviews. Data ini berisi bagaimana review user beserta sentimennya."
   ]
  },
  {
   "cell_type": "code",
   "execution_count": 468,
   "id": "b59b5ccf",
   "metadata": {},
   "outputs": [],
   "source": [
    "df.to_csv('Googleplay_clean.csv')"
   ]
  },
  {
   "cell_type": "code",
   "execution_count": 469,
   "id": "2ccee076",
   "metadata": {},
   "outputs": [
    {
     "data": {
      "text/html": [
       "<div>\n",
       "<style scoped>\n",
       "    .dataframe tbody tr th:only-of-type {\n",
       "        vertical-align: middle;\n",
       "    }\n",
       "\n",
       "    .dataframe tbody tr th {\n",
       "        vertical-align: top;\n",
       "    }\n",
       "\n",
       "    .dataframe thead th {\n",
       "        text-align: right;\n",
       "    }\n",
       "</style>\n",
       "<table border=\"1\" class=\"dataframe\">\n",
       "  <thead>\n",
       "    <tr style=\"text-align: right;\">\n",
       "      <th></th>\n",
       "      <th>App</th>\n",
       "      <th>Translated_Review</th>\n",
       "      <th>Sentiment</th>\n",
       "      <th>Sentiment_Polarity</th>\n",
       "      <th>Sentiment_Subjectivity</th>\n",
       "    </tr>\n",
       "  </thead>\n",
       "  <tbody>\n",
       "    <tr>\n",
       "      <th>0</th>\n",
       "      <td>10 Best Foods for You</td>\n",
       "      <td>I like eat delicious food. That's I'm cooking ...</td>\n",
       "      <td>Positive</td>\n",
       "      <td>1.00</td>\n",
       "      <td>0.533333</td>\n",
       "    </tr>\n",
       "    <tr>\n",
       "      <th>1</th>\n",
       "      <td>10 Best Foods for You</td>\n",
       "      <td>This help eating healthy exercise regular basis</td>\n",
       "      <td>Positive</td>\n",
       "      <td>0.25</td>\n",
       "      <td>0.288462</td>\n",
       "    </tr>\n",
       "    <tr>\n",
       "      <th>2</th>\n",
       "      <td>10 Best Foods for You</td>\n",
       "      <td>NaN</td>\n",
       "      <td>NaN</td>\n",
       "      <td>NaN</td>\n",
       "      <td>NaN</td>\n",
       "    </tr>\n",
       "    <tr>\n",
       "      <th>3</th>\n",
       "      <td>10 Best Foods for You</td>\n",
       "      <td>Works great especially going grocery store</td>\n",
       "      <td>Positive</td>\n",
       "      <td>0.40</td>\n",
       "      <td>0.875000</td>\n",
       "    </tr>\n",
       "    <tr>\n",
       "      <th>4</th>\n",
       "      <td>10 Best Foods for You</td>\n",
       "      <td>Best idea us</td>\n",
       "      <td>Positive</td>\n",
       "      <td>1.00</td>\n",
       "      <td>0.300000</td>\n",
       "    </tr>\n",
       "  </tbody>\n",
       "</table>\n",
       "</div>"
      ],
      "text/plain": [
       "                     App                                  Translated_Review  \\\n",
       "0  10 Best Foods for You  I like eat delicious food. That's I'm cooking ...   \n",
       "1  10 Best Foods for You    This help eating healthy exercise regular basis   \n",
       "2  10 Best Foods for You                                                NaN   \n",
       "3  10 Best Foods for You         Works great especially going grocery store   \n",
       "4  10 Best Foods for You                                       Best idea us   \n",
       "\n",
       "  Sentiment  Sentiment_Polarity  Sentiment_Subjectivity  \n",
       "0  Positive                1.00                0.533333  \n",
       "1  Positive                0.25                0.288462  \n",
       "2       NaN                 NaN                     NaN  \n",
       "3  Positive                0.40                0.875000  \n",
       "4  Positive                1.00                0.300000  "
      ]
     },
     "execution_count": 469,
     "metadata": {},
     "output_type": "execute_result"
    }
   ],
   "source": [
    "#Load data user review\n",
    "df1 = pd.read_csv('googleplaystore_user_reviews.csv')\n",
    "df1.head()"
   ]
  },
  {
   "cell_type": "code",
   "execution_count": 470,
   "id": "a645cf9e",
   "metadata": {},
   "outputs": [
    {
     "data": {
      "text/html": [
       "<div>\n",
       "<style scoped>\n",
       "    .dataframe tbody tr th:only-of-type {\n",
       "        vertical-align: middle;\n",
       "    }\n",
       "\n",
       "    .dataframe tbody tr th {\n",
       "        vertical-align: top;\n",
       "    }\n",
       "\n",
       "    .dataframe thead th {\n",
       "        text-align: right;\n",
       "    }\n",
       "</style>\n",
       "<table border=\"1\" class=\"dataframe\">\n",
       "  <thead>\n",
       "    <tr style=\"text-align: right;\">\n",
       "      <th></th>\n",
       "      <th>App</th>\n",
       "      <th>Sentiment</th>\n",
       "      <th>Jumlah</th>\n",
       "    </tr>\n",
       "  </thead>\n",
       "  <tbody>\n",
       "    <tr>\n",
       "      <th>0</th>\n",
       "      <td>10 Best Foods for You</td>\n",
       "      <td>Negative</td>\n",
       "      <td>10</td>\n",
       "    </tr>\n",
       "    <tr>\n",
       "      <th>1</th>\n",
       "      <td>10 Best Foods for You</td>\n",
       "      <td>Neutral</td>\n",
       "      <td>22</td>\n",
       "    </tr>\n",
       "    <tr>\n",
       "      <th>2</th>\n",
       "      <td>10 Best Foods for You</td>\n",
       "      <td>Positive</td>\n",
       "      <td>162</td>\n",
       "    </tr>\n",
       "    <tr>\n",
       "      <th>3</th>\n",
       "      <td>104 找工作 - 找工作 找打工 找兼職 履歷健檢 履歷診療室</td>\n",
       "      <td>Negative</td>\n",
       "      <td>1</td>\n",
       "    </tr>\n",
       "    <tr>\n",
       "      <th>4</th>\n",
       "      <td>104 找工作 - 找工作 找打工 找兼職 履歷健檢 履歷診療室</td>\n",
       "      <td>Neutral</td>\n",
       "      <td>8</td>\n",
       "    </tr>\n",
       "    <tr>\n",
       "      <th>...</th>\n",
       "      <td>...</td>\n",
       "      <td>...</td>\n",
       "      <td>...</td>\n",
       "    </tr>\n",
       "    <tr>\n",
       "      <th>2371</th>\n",
       "      <td>Hotwire Hotel &amp; Car Rental App</td>\n",
       "      <td>Neutral</td>\n",
       "      <td>11</td>\n",
       "    </tr>\n",
       "    <tr>\n",
       "      <th>2372</th>\n",
       "      <td>Hotwire Hotel &amp; Car Rental App</td>\n",
       "      <td>Positive</td>\n",
       "      <td>16</td>\n",
       "    </tr>\n",
       "    <tr>\n",
       "      <th>2373</th>\n",
       "      <td>Housing-Real Estate &amp; Property</td>\n",
       "      <td>Negative</td>\n",
       "      <td>10</td>\n",
       "    </tr>\n",
       "    <tr>\n",
       "      <th>2374</th>\n",
       "      <td>Housing-Real Estate &amp; Property</td>\n",
       "      <td>Neutral</td>\n",
       "      <td>3</td>\n",
       "    </tr>\n",
       "    <tr>\n",
       "      <th>2375</th>\n",
       "      <td>Housing-Real Estate &amp; Property</td>\n",
       "      <td>Positive</td>\n",
       "      <td>8</td>\n",
       "    </tr>\n",
       "  </tbody>\n",
       "</table>\n",
       "<p>2376 rows × 3 columns</p>\n",
       "</div>"
      ],
      "text/plain": [
       "                                   App Sentiment  Jumlah\n",
       "0                10 Best Foods for You  Negative      10\n",
       "1                10 Best Foods for You   Neutral      22\n",
       "2                10 Best Foods for You  Positive     162\n",
       "3     104 找工作 - 找工作 找打工 找兼職 履歷健檢 履歷診療室  Negative       1\n",
       "4     104 找工作 - 找工作 找打工 找兼職 履歷健檢 履歷診療室   Neutral       8\n",
       "...                                ...       ...     ...\n",
       "2371    Hotwire Hotel & Car Rental App   Neutral      11\n",
       "2372    Hotwire Hotel & Car Rental App  Positive      16\n",
       "2373    Housing-Real Estate & Property  Negative      10\n",
       "2374    Housing-Real Estate & Property   Neutral       3\n",
       "2375    Housing-Real Estate & Property  Positive       8\n",
       "\n",
       "[2376 rows x 3 columns]"
      ]
     },
     "execution_count": 470,
     "metadata": {},
     "output_type": "execute_result"
    }
   ],
   "source": [
    "# Membuat pivot tabel berdasarkan kolom App dari data df1\n",
    "pv = pd.pivot_table(df1,index=['App','Sentiment'],\n",
    "                    aggfunc ={\n",
    "                    'Sentiment_Polarity':'count'\n",
    "                    }).reset_index()\n",
    "pv = pv.rename(columns={'Sentiment_Polarity':'Jumlah'})\n",
    "pv"
   ]
  },
  {
   "cell_type": "code",
   "execution_count": 471,
   "id": "a54f1341",
   "metadata": {},
   "outputs": [
    {
     "data": {
      "text/html": [
       "<div>\n",
       "<style scoped>\n",
       "    .dataframe tbody tr th:only-of-type {\n",
       "        vertical-align: middle;\n",
       "    }\n",
       "\n",
       "    .dataframe tbody tr th {\n",
       "        vertical-align: top;\n",
       "    }\n",
       "\n",
       "    .dataframe thead th {\n",
       "        text-align: right;\n",
       "    }\n",
       "</style>\n",
       "<table border=\"1\" class=\"dataframe\">\n",
       "  <thead>\n",
       "    <tr style=\"text-align: right;\">\n",
       "      <th></th>\n",
       "      <th>App</th>\n",
       "      <th>Category</th>\n",
       "      <th>Rating</th>\n",
       "      <th>Reviews</th>\n",
       "      <th>Size</th>\n",
       "      <th>Installs</th>\n",
       "      <th>Type</th>\n",
       "      <th>Price</th>\n",
       "      <th>Content Rating</th>\n",
       "      <th>Genres</th>\n",
       "      <th>Last Updated</th>\n",
       "      <th>Current Ver</th>\n",
       "      <th>Android Ver</th>\n",
       "      <th>Sentiment</th>\n",
       "      <th>Jumlah</th>\n",
       "    </tr>\n",
       "  </thead>\n",
       "  <tbody>\n",
       "    <tr>\n",
       "      <th>0</th>\n",
       "      <td>Photo Editor &amp; Candy Camera &amp; Grid &amp; ScrapBook</td>\n",
       "      <td>ART_AND_DESIGN</td>\n",
       "      <td>4.1</td>\n",
       "      <td>159</td>\n",
       "      <td>19M</td>\n",
       "      <td>10000</td>\n",
       "      <td>Free</td>\n",
       "      <td>0.0</td>\n",
       "      <td>Everyone</td>\n",
       "      <td>Art &amp; Design</td>\n",
       "      <td>January 7, 2018</td>\n",
       "      <td>1.0.0</td>\n",
       "      <td>4.0.3 and up</td>\n",
       "      <td>NaN</td>\n",
       "      <td>NaN</td>\n",
       "    </tr>\n",
       "    <tr>\n",
       "      <th>1</th>\n",
       "      <td>Coloring book moana</td>\n",
       "      <td>ART_AND_DESIGN</td>\n",
       "      <td>3.9</td>\n",
       "      <td>967</td>\n",
       "      <td>14M</td>\n",
       "      <td>500000</td>\n",
       "      <td>Free</td>\n",
       "      <td>0.0</td>\n",
       "      <td>Everyone</td>\n",
       "      <td>Art &amp; Design;Pretend Play</td>\n",
       "      <td>January 15, 2018</td>\n",
       "      <td>2.0.0</td>\n",
       "      <td>4.0.3 and up</td>\n",
       "      <td>Negative</td>\n",
       "      <td>14.0</td>\n",
       "    </tr>\n",
       "    <tr>\n",
       "      <th>2</th>\n",
       "      <td>Coloring book moana</td>\n",
       "      <td>ART_AND_DESIGN</td>\n",
       "      <td>3.9</td>\n",
       "      <td>967</td>\n",
       "      <td>14M</td>\n",
       "      <td>500000</td>\n",
       "      <td>Free</td>\n",
       "      <td>0.0</td>\n",
       "      <td>Everyone</td>\n",
       "      <td>Art &amp; Design;Pretend Play</td>\n",
       "      <td>January 15, 2018</td>\n",
       "      <td>2.0.0</td>\n",
       "      <td>4.0.3 and up</td>\n",
       "      <td>Neutral</td>\n",
       "      <td>4.0</td>\n",
       "    </tr>\n",
       "    <tr>\n",
       "      <th>3</th>\n",
       "      <td>Coloring book moana</td>\n",
       "      <td>ART_AND_DESIGN</td>\n",
       "      <td>3.9</td>\n",
       "      <td>967</td>\n",
       "      <td>14M</td>\n",
       "      <td>500000</td>\n",
       "      <td>Free</td>\n",
       "      <td>0.0</td>\n",
       "      <td>Everyone</td>\n",
       "      <td>Art &amp; Design;Pretend Play</td>\n",
       "      <td>January 15, 2018</td>\n",
       "      <td>2.0.0</td>\n",
       "      <td>4.0.3 and up</td>\n",
       "      <td>Positive</td>\n",
       "      <td>26.0</td>\n",
       "    </tr>\n",
       "    <tr>\n",
       "      <th>4</th>\n",
       "      <td>U Launcher Lite – FREE Live Cool Themes, Hide ...</td>\n",
       "      <td>ART_AND_DESIGN</td>\n",
       "      <td>4.7</td>\n",
       "      <td>87510</td>\n",
       "      <td>8.7M</td>\n",
       "      <td>5000000</td>\n",
       "      <td>Free</td>\n",
       "      <td>0.0</td>\n",
       "      <td>Everyone</td>\n",
       "      <td>Art &amp; Design</td>\n",
       "      <td>August 1, 2018</td>\n",
       "      <td>1.2.4</td>\n",
       "      <td>4.0.3 and up</td>\n",
       "      <td>NaN</td>\n",
       "      <td>NaN</td>\n",
       "    </tr>\n",
       "  </tbody>\n",
       "</table>\n",
       "</div>"
      ],
      "text/plain": [
       "                                                 App        Category  Rating  \\\n",
       "0     Photo Editor & Candy Camera & Grid & ScrapBook  ART_AND_DESIGN     4.1   \n",
       "1                                Coloring book moana  ART_AND_DESIGN     3.9   \n",
       "2                                Coloring book moana  ART_AND_DESIGN     3.9   \n",
       "3                                Coloring book moana  ART_AND_DESIGN     3.9   \n",
       "4  U Launcher Lite – FREE Live Cool Themes, Hide ...  ART_AND_DESIGN     4.7   \n",
       "\n",
       "   Reviews  Size  Installs  Type  Price Content Rating  \\\n",
       "0      159   19M     10000  Free    0.0       Everyone   \n",
       "1      967   14M    500000  Free    0.0       Everyone   \n",
       "2      967   14M    500000  Free    0.0       Everyone   \n",
       "3      967   14M    500000  Free    0.0       Everyone   \n",
       "4    87510  8.7M   5000000  Free    0.0       Everyone   \n",
       "\n",
       "                      Genres      Last Updated Current Ver   Android Ver  \\\n",
       "0               Art & Design   January 7, 2018       1.0.0  4.0.3 and up   \n",
       "1  Art & Design;Pretend Play  January 15, 2018       2.0.0  4.0.3 and up   \n",
       "2  Art & Design;Pretend Play  January 15, 2018       2.0.0  4.0.3 and up   \n",
       "3  Art & Design;Pretend Play  January 15, 2018       2.0.0  4.0.3 and up   \n",
       "4               Art & Design    August 1, 2018       1.2.4  4.0.3 and up   \n",
       "\n",
       "  Sentiment  Jumlah  \n",
       "0       NaN     NaN  \n",
       "1  Negative    14.0  \n",
       "2   Neutral     4.0  \n",
       "3  Positive    26.0  \n",
       "4       NaN     NaN  "
      ]
     },
     "execution_count": 471,
     "metadata": {},
     "output_type": "execute_result"
    }
   ],
   "source": [
    "# Mengambil data sentimen dan jumlah dari pivot_df1 kemudian menggabungkannya ke data utama dengan key valuekolom App\n",
    "df_review = pd.merge(df,pv, on ='App', how='left')\n",
    "df_review.head()"
   ]
  },
  {
   "cell_type": "code",
   "execution_count": 472,
   "id": "03f2f5d0",
   "metadata": {},
   "outputs": [],
   "source": [
    "df_review.to_csv('Googleplay_revie_clean.csv')"
   ]
  },
  {
   "cell_type": "code",
   "execution_count": 473,
   "id": "7fdf42be",
   "metadata": {},
   "outputs": [
    {
     "data": {
      "text/html": [
       "<div>\n",
       "<style scoped>\n",
       "    .dataframe tbody tr th:only-of-type {\n",
       "        vertical-align: middle;\n",
       "    }\n",
       "\n",
       "    .dataframe tbody tr th {\n",
       "        vertical-align: top;\n",
       "    }\n",
       "\n",
       "    .dataframe thead th {\n",
       "        text-align: right;\n",
       "    }\n",
       "</style>\n",
       "<table border=\"1\" class=\"dataframe\">\n",
       "  <thead>\n",
       "    <tr style=\"text-align: right;\">\n",
       "      <th></th>\n",
       "      <th>Category</th>\n",
       "      <th>Sentiment</th>\n",
       "      <th>Jumlah</th>\n",
       "    </tr>\n",
       "  </thead>\n",
       "  <tbody>\n",
       "    <tr>\n",
       "      <th>0</th>\n",
       "      <td>ART_AND_DESIGN</td>\n",
       "      <td>Negative</td>\n",
       "      <td>61.0</td>\n",
       "    </tr>\n",
       "    <tr>\n",
       "      <th>1</th>\n",
       "      <td>ART_AND_DESIGN</td>\n",
       "      <td>Neutral</td>\n",
       "      <td>62.0</td>\n",
       "    </tr>\n",
       "    <tr>\n",
       "      <th>2</th>\n",
       "      <td>ART_AND_DESIGN</td>\n",
       "      <td>Positive</td>\n",
       "      <td>259.0</td>\n",
       "    </tr>\n",
       "    <tr>\n",
       "      <th>9</th>\n",
       "      <td>BOOKS_AND_REFERENCE</td>\n",
       "      <td>Negative</td>\n",
       "      <td>95.0</td>\n",
       "    </tr>\n",
       "    <tr>\n",
       "      <th>10</th>\n",
       "      <td>BOOKS_AND_REFERENCE</td>\n",
       "      <td>Neutral</td>\n",
       "      <td>108.0</td>\n",
       "    </tr>\n",
       "    <tr>\n",
       "      <th>11</th>\n",
       "      <td>BOOKS_AND_REFERENCE</td>\n",
       "      <td>Positive</td>\n",
       "      <td>448.0</td>\n",
       "    </tr>\n",
       "    <tr>\n",
       "      <th>24</th>\n",
       "      <td>EDUCATION</td>\n",
       "      <td>Negative</td>\n",
       "      <td>102.0</td>\n",
       "    </tr>\n",
       "    <tr>\n",
       "      <th>25</th>\n",
       "      <td>EDUCATION</td>\n",
       "      <td>Neutral</td>\n",
       "      <td>90.0</td>\n",
       "    </tr>\n",
       "    <tr>\n",
       "      <th>26</th>\n",
       "      <td>EDUCATION</td>\n",
       "      <td>Positive</td>\n",
       "      <td>655.0</td>\n",
       "    </tr>\n",
       "    <tr>\n",
       "      <th>30</th>\n",
       "      <td>EVENTS</td>\n",
       "      <td>Negative</td>\n",
       "      <td>16.0</td>\n",
       "    </tr>\n",
       "    <tr>\n",
       "      <th>31</th>\n",
       "      <td>EVENTS</td>\n",
       "      <td>Neutral</td>\n",
       "      <td>17.0</td>\n",
       "    </tr>\n",
       "    <tr>\n",
       "      <th>32</th>\n",
       "      <td>EVENTS</td>\n",
       "      <td>Positive</td>\n",
       "      <td>125.0</td>\n",
       "    </tr>\n",
       "    <tr>\n",
       "      <th>69</th>\n",
       "      <td>PERSONALIZATION</td>\n",
       "      <td>Negative</td>\n",
       "      <td>146.0</td>\n",
       "    </tr>\n",
       "    <tr>\n",
       "      <th>70</th>\n",
       "      <td>PERSONALIZATION</td>\n",
       "      <td>Neutral</td>\n",
       "      <td>156.0</td>\n",
       "    </tr>\n",
       "    <tr>\n",
       "      <th>71</th>\n",
       "      <td>PERSONALIZATION</td>\n",
       "      <td>Positive</td>\n",
       "      <td>702.0</td>\n",
       "    </tr>\n",
       "  </tbody>\n",
       "</table>\n",
       "</div>"
      ],
      "text/plain": [
       "               Category Sentiment  Jumlah\n",
       "0        ART_AND_DESIGN  Negative    61.0\n",
       "1        ART_AND_DESIGN   Neutral    62.0\n",
       "2        ART_AND_DESIGN  Positive   259.0\n",
       "9   BOOKS_AND_REFERENCE  Negative    95.0\n",
       "10  BOOKS_AND_REFERENCE   Neutral   108.0\n",
       "11  BOOKS_AND_REFERENCE  Positive   448.0\n",
       "24            EDUCATION  Negative   102.0\n",
       "25            EDUCATION   Neutral    90.0\n",
       "26            EDUCATION  Positive   655.0\n",
       "30               EVENTS  Negative    16.0\n",
       "31               EVENTS   Neutral    17.0\n",
       "32               EVENTS  Positive   125.0\n",
       "69      PERSONALIZATION  Negative   146.0\n",
       "70      PERSONALIZATION   Neutral   156.0\n",
       "71      PERSONALIZATION  Positive   702.0"
      ]
     },
     "execution_count": 473,
     "metadata": {},
     "output_type": "execute_result"
    }
   ],
   "source": [
    "# Membuat pivot table berdasarkan kolom kategori dan sentimennya\n",
    "top_cat_sentimen = pd.pivot_table(df_review,index=['Category','Sentiment'],\n",
    "                   aggfunc={\n",
    "                       'Jumlah':'sum'\n",
    "                   }).reset_index()\n",
    "\n",
    "#Mengambil unique value kolom category pada data top_cat\n",
    "cat = top_cat['Category'].unique().tolist()\n",
    "# Melihat sentiment dengan kategori top_cat\n",
    "top_cat_sentimen = top_cat_sentimen[top_cat_sentimen['Category'].isin(cat)]\n",
    "top_cat_sentimen"
   ]
  },
  {
   "cell_type": "code",
   "execution_count": 474,
   "id": "ab4114fd",
   "metadata": {},
   "outputs": [
    {
     "data": {
      "image/png": "[encoded data removed]",
      "text/plain": [
       "<Figure size 720x432 with 1 Axes>"
      ]
     },
     "metadata": {},
     "output_type": "display_data"
    }
   ],
   "source": [
    "# Set the style for the plot (optional but can improve aesthetics)\n",
    "sns.set(style=\"whitegrid\")\n",
    "\n",
    "# Create the boxplot\n",
    "plt.figure(figsize=(10, 6))  # Adjust the figure size if needed\n",
    "sns.barplot(x='Category', y='Jumlah', data=top_cat_sentimen, hue='Sentiment', palette='magma')\n",
    "\n",
    "# Add labels and title\n",
    "plt.xlabel('Category', fontsize=14)\n",
    "plt.ylabel('Jumlah', fontsize=14)\n",
    "plt.title('Sentimen Review Tiap Kategori', fontsize=16)\n",
    "\n",
    "# Rotate the x-axis labels for better readability (optional)\n",
    "plt.xticks(rotation=45, ha='right')\n",
    "\n",
    "# Adjust the legend location (optional)\n",
    "plt.legend(loc='upper right', title='Sentiment')\n",
    "\n",
    "# Add grid lines (optional)\n",
    "plt.grid(True, axis='y', linestyle='--', alpha=0.7)\n",
    "\n",
    "# Remove the top and right spines for cleaner appearance (optional)\n",
    "sns.despine()\n",
    "\n",
    "# Show the plot\n",
    "plt.show()"
   ]
  },
  {
   "cell_type": "markdown",
   "id": "cb15fdd3",
   "metadata": {},
   "source": [
    "#### Dari visualisasi diatas dapat dilihat bahwa tiap kategori memiliki review positif yang nilainya sangat tinggi dibanding dengan sentimen negatif maupun netralnya. Hal ini menandakan user puas dengan aplikasi-aplikasi pada top kategori ini."
   ]
  },
  {
   "cell_type": "markdown",
   "id": "696a08bb",
   "metadata": {},
   "source": [
    "### Analisis kolom Type"
   ]
  },
  {
   "cell_type": "code",
   "execution_count": 475,
   "id": "ad540091",
   "metadata": {},
   "outputs": [
    {
     "data": {
      "text/html": [
       "<div>\n",
       "<style scoped>\n",
       "    .dataframe tbody tr th:only-of-type {\n",
       "        vertical-align: middle;\n",
       "    }\n",
       "\n",
       "    .dataframe tbody tr th {\n",
       "        vertical-align: top;\n",
       "    }\n",
       "\n",
       "    .dataframe thead th {\n",
       "        text-align: right;\n",
       "    }\n",
       "</style>\n",
       "<table border=\"1\" class=\"dataframe\">\n",
       "  <thead>\n",
       "    <tr style=\"text-align: right;\">\n",
       "      <th></th>\n",
       "      <th>Type</th>\n",
       "      <th>Jumlah</th>\n",
       "      <th>Installs</th>\n",
       "      <th>Price</th>\n",
       "      <th>Rating</th>\n",
       "      <th>Reviews</th>\n",
       "    </tr>\n",
       "  </thead>\n",
       "  <tbody>\n",
       "    <tr>\n",
       "      <th>0</th>\n",
       "      <td>Free</td>\n",
       "      <td>8895</td>\n",
       "      <td>7.506405e+10</td>\n",
       "      <td>0.000000</td>\n",
       "      <td>4.186082</td>\n",
       "      <td>2085447108</td>\n",
       "    </tr>\n",
       "    <tr>\n",
       "      <th>1</th>\n",
       "      <td>Paid</td>\n",
       "      <td>753</td>\n",
       "      <td>5.731387e+07</td>\n",
       "      <td>14.096494</td>\n",
       "      <td>4.267862</td>\n",
       "      <td>6595605</td>\n",
       "    </tr>\n",
       "  </tbody>\n",
       "</table>\n",
       "</div>"
      ],
      "text/plain": [
       "   Type  Jumlah      Installs      Price    Rating     Reviews\n",
       "0  Free    8895  7.506405e+10   0.000000  4.186082  2085447108\n",
       "1  Paid     753  5.731387e+07  14.096494  4.267862     6595605"
      ]
     },
     "execution_count": 475,
     "metadata": {},
     "output_type": "execute_result"
    }
   ],
   "source": [
    "# Membuat pivot table berdasarkan kolom type\n",
    "top_type = pd.pivot_table(df,index=['Type'],\n",
    "                    aggfunc ={\n",
    "                    'App' : 'count',\n",
    "                    'Rating':'mean',\n",
    "                    'Price' :'mean',\n",
    "                    'Reviews' : 'sum',\n",
    "                    'Installs' :'sum'\n",
    "                    }).reset_index()\n",
    "#Mengganti nama kolom App menjadi Jumlah\n",
    "top_type = top_type.rename(columns={'App':'Jumlah'})\n",
    "top_type"
   ]
  },
  {
   "cell_type": "code",
   "execution_count": 476,
   "id": "7eab1488",
   "metadata": {},
   "outputs": [
    {
     "data": {
      "image/png": "[encoded data removed]",
      "text/plain": [
       "<Figure size 432x288 with 1 Axes>"
      ]
     },
     "metadata": {},
     "output_type": "display_data"
    }
   ],
   "source": [
    "plt.pie(data = top_type,x='Jumlah', labels='Type', autopct='%1.1f%%')\n",
    "plt.show()"
   ]
  },
  {
   "cell_type": "markdown",
   "id": "d35b6807",
   "metadata": {},
   "source": [
    "#### Mayoritas aplikasi merupakan aplikasi bertipe free atau gratis dengan presentase sebanyak 92.2%."
   ]
  },
  {
   "cell_type": "code",
   "execution_count": 477,
   "id": "cbc0236c",
   "metadata": {},
   "outputs": [
    {
     "data": {
      "text/html": [
       "<div>\n",
       "<style scoped>\n",
       "    .dataframe tbody tr th:only-of-type {\n",
       "        vertical-align: middle;\n",
       "    }\n",
       "\n",
       "    .dataframe tbody tr th {\n",
       "        vertical-align: top;\n",
       "    }\n",
       "\n",
       "    .dataframe thead th {\n",
       "        text-align: right;\n",
       "    }\n",
       "</style>\n",
       "<table border=\"1\" class=\"dataframe\">\n",
       "  <thead>\n",
       "    <tr style=\"text-align: right;\">\n",
       "      <th></th>\n",
       "      <th>Type</th>\n",
       "      <th>Sentiment</th>\n",
       "      <th>Jumlah</th>\n",
       "    </tr>\n",
       "  </thead>\n",
       "  <tbody>\n",
       "    <tr>\n",
       "      <th>0</th>\n",
       "      <td>Free</td>\n",
       "      <td>Negative</td>\n",
       "      <td>7942.0</td>\n",
       "    </tr>\n",
       "    <tr>\n",
       "      <th>1</th>\n",
       "      <td>Free</td>\n",
       "      <td>Neutral</td>\n",
       "      <td>4828.0</td>\n",
       "    </tr>\n",
       "    <tr>\n",
       "      <th>2</th>\n",
       "      <td>Free</td>\n",
       "      <td>Positive</td>\n",
       "      <td>22748.0</td>\n",
       "    </tr>\n",
       "    <tr>\n",
       "      <th>3</th>\n",
       "      <td>Paid</td>\n",
       "      <td>Negative</td>\n",
       "      <td>63.0</td>\n",
       "    </tr>\n",
       "    <tr>\n",
       "      <th>4</th>\n",
       "      <td>Paid</td>\n",
       "      <td>Neutral</td>\n",
       "      <td>28.0</td>\n",
       "    </tr>\n",
       "    <tr>\n",
       "      <th>5</th>\n",
       "      <td>Paid</td>\n",
       "      <td>Positive</td>\n",
       "      <td>325.0</td>\n",
       "    </tr>\n",
       "  </tbody>\n",
       "</table>\n",
       "</div>"
      ],
      "text/plain": [
       "   Type Sentiment   Jumlah\n",
       "0  Free  Negative   7942.0\n",
       "1  Free   Neutral   4828.0\n",
       "2  Free  Positive  22748.0\n",
       "3  Paid  Negative     63.0\n",
       "4  Paid   Neutral     28.0\n",
       "5  Paid  Positive    325.0"
      ]
     },
     "execution_count": 477,
     "metadata": {},
     "output_type": "execute_result"
    }
   ],
   "source": [
    "# Membuat pivot table berdasarkan kolom type\n",
    "top_type = pd.pivot_table(df_review,index=['Type','Sentiment'],\n",
    "                    aggfunc ={\n",
    "                    'Jumlah' : 'sum'\n",
    "                    }).reset_index()\n",
    "\n",
    "top_type"
   ]
  },
  {
   "cell_type": "code",
   "execution_count": 478,
   "id": "8b0b3b5f",
   "metadata": {},
   "outputs": [
    {
     "data": {
      "image/png": "[encoded data removed]",
      "text/plain": [
       "<Figure size 1152x432 with 2 Axes>"
      ]
     },
     "metadata": {},
     "output_type": "display_data"
    }
   ],
   "source": [
    "free = top_type[top_type['Type']=='Free']\n",
    "paid = top_type[top_type['Type']=='Paid']\n",
    "fig, axes = plt.subplots(nrows=1, ncols=2, figsize=(16, 6))\n",
    "\n",
    "# Plot the pie chart for 'Free' apps\n",
    "free_sentiment_counts = free['Jumlah'].values\n",
    "free_sentiment_labels = free['Sentiment'].values\n",
    "axes[0].pie(free_sentiment_counts, labels=free_sentiment_labels, autopct='%1.1f%%')\n",
    "axes[0].set_title('Sentiment Distribution for Free Apps')\n",
    "\n",
    "# Plot the pie chart for 'Paid' apps\n",
    "paid_sentiment_counts = paid['Jumlah'].values\n",
    "paid_sentiment_labels = paid['Sentiment'].values\n",
    "axes[1].pie(paid_sentiment_counts, labels=paid_sentiment_labels, autopct='%1.1f%%')\n",
    "axes[1].set_title('Sentiment Distribution for Paid Apps')\n",
    "\n",
    "# Show the plot\n",
    "plt.show()"
   ]
  },
  {
   "cell_type": "markdown",
   "id": "f6d044a0",
   "metadata": {},
   "source": [
    "#### Aplikasi dengan tipe free maupun paid memiliki review sentiment positif yang cukup besar. Untuk aplikasi dengan tipe free memiliki presentase review positif mencapai 64% sementara untuk aplikasi berbayar (paid) memliki presentase review positif mencapai 78%.\n",
    "#### Tetapi, review negatif untuk tiap tipenya juga bisa dikatakan besar, dengan presentase untuk tipe free mencaapai 22.4% dan tipe berbayar mencapai 15.1%. \n",
    "#### Presentase review negatif yang cukup besar ini perlu dijadikan catatan agar kedepannya bisa lebih diperbaiki agar review negatif user menurun."
   ]
  },
  {
   "cell_type": "markdown",
   "id": "16fa4544",
   "metadata": {},
   "source": [
    "### Analisis kolom content rating"
   ]
  },
  {
   "cell_type": "code",
   "execution_count": 479,
   "id": "17556655",
   "metadata": {},
   "outputs": [
    {
     "data": {
      "text/plain": [
       "array(['Everyone', 'Teen', 'Everyone 10+', 'Mature 17+',\n",
       "       'Adults only 18+', 'Unrated'], dtype=object)"
      ]
     },
     "execution_count": 479,
     "metadata": {},
     "output_type": "execute_result"
    }
   ],
   "source": [
    "df['Content Rating'].unique()"
   ]
  },
  {
   "cell_type": "code",
   "execution_count": 480,
   "id": "b8ccee57",
   "metadata": {},
   "outputs": [
    {
     "data": {
      "text/html": [
       "<div>\n",
       "<style scoped>\n",
       "    .dataframe tbody tr th:only-of-type {\n",
       "        vertical-align: middle;\n",
       "    }\n",
       "\n",
       "    .dataframe tbody tr th {\n",
       "        vertical-align: top;\n",
       "    }\n",
       "\n",
       "    .dataframe thead th {\n",
       "        text-align: right;\n",
       "    }\n",
       "</style>\n",
       "<table border=\"1\" class=\"dataframe\">\n",
       "  <thead>\n",
       "    <tr style=\"text-align: right;\">\n",
       "      <th></th>\n",
       "      <th>Content Rating</th>\n",
       "      <th>Installs</th>\n",
       "      <th>Price</th>\n",
       "      <th>Rating</th>\n",
       "      <th>Reviews</th>\n",
       "    </tr>\n",
       "  </thead>\n",
       "  <tbody>\n",
       "    <tr>\n",
       "      <th>1</th>\n",
       "      <td>Everyone</td>\n",
       "      <td>5.217778e+10</td>\n",
       "      <td>1.231035</td>\n",
       "      <td>4.188091</td>\n",
       "      <td>1300301645</td>\n",
       "    </tr>\n",
       "    <tr>\n",
       "      <th>4</th>\n",
       "      <td>Teen</td>\n",
       "      <td>1.648728e+10</td>\n",
       "      <td>0.633475</td>\n",
       "      <td>4.234556</td>\n",
       "      <td>503292211</td>\n",
       "    </tr>\n",
       "    <tr>\n",
       "      <th>2</th>\n",
       "      <td>Everyone 10+</td>\n",
       "      <td>4.016272e+09</td>\n",
       "      <td>0.435202</td>\n",
       "      <td>4.229595</td>\n",
       "      <td>201328121</td>\n",
       "    </tr>\n",
       "    <tr>\n",
       "      <th>3</th>\n",
       "      <td>Mature 17+</td>\n",
       "      <td>2.437987e+09</td>\n",
       "      <td>0.259847</td>\n",
       "      <td>4.138168</td>\n",
       "      <td>87038201</td>\n",
       "    </tr>\n",
       "    <tr>\n",
       "      <th>0</th>\n",
       "      <td>Adults only 18+</td>\n",
       "      <td>2.000000e+06</td>\n",
       "      <td>0.000000</td>\n",
       "      <td>4.300000</td>\n",
       "      <td>81348</td>\n",
       "    </tr>\n",
       "    <tr>\n",
       "      <th>5</th>\n",
       "      <td>Unrated</td>\n",
       "      <td>5.050000e+04</td>\n",
       "      <td>0.000000</td>\n",
       "      <td>4.200000</td>\n",
       "      <td>1187</td>\n",
       "    </tr>\n",
       "  </tbody>\n",
       "</table>\n",
       "</div>"
      ],
      "text/plain": [
       "    Content Rating      Installs     Price    Rating     Reviews\n",
       "1         Everyone  5.217778e+10  1.231035  4.188091  1300301645\n",
       "4             Teen  1.648728e+10  0.633475  4.234556   503292211\n",
       "2     Everyone 10+  4.016272e+09  0.435202  4.229595   201328121\n",
       "3       Mature 17+  2.437987e+09  0.259847  4.138168    87038201\n",
       "0  Adults only 18+  2.000000e+06  0.000000  4.300000       81348\n",
       "5          Unrated  5.050000e+04  0.000000  4.200000        1187"
      ]
     },
     "execution_count": 480,
     "metadata": {},
     "output_type": "execute_result"
    }
   ],
   "source": [
    "#Membuat pivot table berdasrkan kolom content rating dan type, diurutkan berdasrkan jumlah penginstal terbanyak\n",
    "Top_content = pd.pivot_table(df,index=['Content Rating'],\n",
    "                    aggfunc ={\n",
    "                    'Rating':'mean',\n",
    "                    'Price' :'mean',\n",
    "                    'Reviews' : 'sum',\n",
    "                    'Installs' :'sum'\n",
    "                    }).reset_index().sort_values('Installs',ascending=False)\n",
    "Top_content"
   ]
  },
  {
   "cell_type": "code",
   "execution_count": 481,
   "id": "f65ce416",
   "metadata": {},
   "outputs": [
    {
     "name": "stderr",
     "output_type": "stream",
     "text": [
      "No handles with labels found to put in legend.\n",
      "No handles with labels found to put in legend.\n",
      "No handles with labels found to put in legend.\n",
      "No handles with labels found to put in legend.\n"
     ]
    },
    {
     "data": {
      "image/png": "[encoded data removed]",
      "text/plain": [
       "<Figure size 1152x864 with 4 Axes>"
      ]
     },
     "metadata": {},
     "output_type": "display_data"
    }
   ],
   "source": [
    "# visualisasi untuk kolom content rating dengan rating, instal, price,reviews\n",
    "plt.rcParams['axes.labelsize'] = 12\n",
    "\n",
    "_, axes = plt.subplots(nrows=2, ncols=2, figsize=(16, 12))\n",
    "\n",
    "# Plot 1: Rating\n",
    "sns.barplot(x='Content Rating', y='Rating', data=Top_content.sort_values('Rating', ascending=False), palette='magma', ax=axes[0, 0])\n",
    "axes[0, 0].set_xticklabels(axes[0, 0].get_xticklabels(), rotation=45)\n",
    "axes[0, 0].set_title(\"Rating vs. Content Rating\")\n",
    "axes[0, 0].set_xlabel('Content Rating')\n",
    "axes[0, 0].set_ylabel('Rating')\n",
    "axes[0, 0].grid(axis='y', linestyle='--')\n",
    "axes[0, 0].legend(loc='upper right')\n",
    "\n",
    "# Add label values for Plot 1\n",
    "for p in axes[0, 0].patches:\n",
    "    height = p.get_height()\n",
    "    axes[0, 0].annotate(f'{height:.2f}', xy=(p.get_x() + p.get_width() / 2, height), xytext=(0, 3),\n",
    "                        textcoords=\"offset points\", ha='center', va='bottom')\n",
    "\n",
    "# Plot 2: Installs\n",
    "sns.barplot(x='Content Rating', y='Installs', data=Top_content.sort_values('Installs', ascending=False), palette='magma', ax=axes[0, 1])\n",
    "axes[0, 1].set_xticklabels(axes[0, 1].get_xticklabels(), rotation=45)\n",
    "axes[0, 1].set_title(\"Installs vs. Content Rating\")\n",
    "axes[0, 1].set_xlabel('Content Rating')\n",
    "axes[0, 1].set_ylabel('Installs')\n",
    "axes[0, 1].grid(axis='y', linestyle='--')\n",
    "axes[0, 1].legend(loc='upper right')\n",
    "\n",
    "# Add label values for Plot 2\n",
    "for p in axes[0, 1].patches:\n",
    "    height = p.get_height()\n",
    "    axes[0, 1].annotate(f'{height:.2f}', xy=(p.get_x() + p.get_width() / 2, height), xytext=(0, 3),\n",
    "                        textcoords=\"offset points\", ha='center', va='bottom')\n",
    "\n",
    "# Plot 3: Price\n",
    "sns.barplot(x='Content Rating', y='Price', data=Top_content.sort_values('Price', ascending=False), palette='magma', ax=axes[1, 0])\n",
    "axes[1, 0].set_xticklabels(axes[1, 0].get_xticklabels(), rotation=45)\n",
    "axes[1, 0].set_title(\"Price vs. Content Rating\")\n",
    "axes[1, 0].set_xlabel('Content Rating')\n",
    "axes[1, 0].set_ylabel('Price')\n",
    "axes[1, 0].grid(axis='y', linestyle='--')\n",
    "axes[1, 0].legend(loc='upper right')\n",
    "\n",
    "# Add label values for Plot 3\n",
    "for p in axes[1, 0].patches:\n",
    "    height = p.get_height()\n",
    "    axes[1, 0].annotate(f'{height:.2f}', xy=(p.get_x() + p.get_width() / 2, height), xytext=(0, 3),\n",
    "                        textcoords=\"offset points\", ha='center', va='bottom')\n",
    "\n",
    "# Plot 4: Reviews\n",
    "sns.barplot(x='Content Rating', y='Reviews', data=Top_content.sort_values('Reviews', ascending=False), palette='magma', ax=axes[1, 1])\n",
    "axes[1, 1].set_xticklabels(axes[1, 1].get_xticklabels(), rotation=45)\n",
    "axes[1, 1].set_title(\"Reviews vs. Content Rating\")\n",
    "axes[1, 1].set_xlabel('Content Rating')\n",
    "axes[1, 1].set_ylabel('Reviews')\n",
    "axes[1, 1].grid(axis='y', linestyle='--')\n",
    "axes[1, 1].legend(loc='upper right')\n",
    "\n",
    "# Add label values for Plot 4\n",
    "for p in axes[1, 1].patches:\n",
    "    height = p.get_height()\n",
    "    axes[1, 1].annotate(f'{height:.2f}', xy=(p.get_x() + p.get_width() / 2, height), xytext=(0, 3),\n",
    "                        textcoords=\"offset points\", ha='center', va='bottom')\n",
    "\n",
    "# Adjust the layout\n",
    "plt.tight_layout()\n",
    "\n",
    "plt.show()\n"
   ]
  },
  {
   "cell_type": "markdown",
   "id": "5a046f3a",
   "metadata": {},
   "source": [
    "#### Seluruh content rating aplikasi memiliki nilai rata-rata rating yang tinggi dengan nilai rata-rata rating diatas 4.\n",
    "#### Dari seluruh content ratting aplikasi ini , yang memiliki jumlah penginstalls terbanyak adalah aplikasi dengan content rating  everyone. Sementara jumlah  penginstal paling sedikit dimiliki oleh aplikasi dengan content rating unrated.\n",
    "#### Jika dilihat dari harga-harga rata-rata tiap aplikasinya, content rating Everyone memiliki rata-rata harga yang paling tinggi dengan nilai sebesar 1.23 dolar. Nilai yang tinggi ini tidak mempengaruhi jumlah penginstal aplikasi dengan content rating everyone"
   ]
  },
  {
   "cell_type": "markdown",
   "id": "b3d3dd19",
   "metadata": {},
   "source": [
    "## Conclusion\n",
    "Tiap aplikasi sudah memiliki rata-rata rating yang tinggi yaitu diatas 4 dan juga rata-rata jumlah review positif yang tinggi. hal ini sudah cukup bagus, Tetapi jika dilihat dari review negaitfnya, jumlah review negatifnya cukup meanrik perhatian. Walaupun tidak sebanyak review positif, review negatif yang diatas 15% sudah bisa dibilang cukup besar. Sehingga perlu dilakukan perbaikan untuk mengurangi review negatif yang dimiliki tiap aplikasi."
   ]
  }
 ],
 "metadata": {
  "kernelspec": {
   "display_name": "Python 3",
   "language": "python",
   "name": "python3"
  },
  "language_info": {
   "codemirror_mode": {
    "name": "ipython",
    "version": 3
   },
   "file_extension": ".py",
   "mimetype": "text/x-python",
   "name": "python",
   "nbconvert_exporter": "python",
   "pygments_lexer": "ipython3",
   "version": "3.8.8"
  }
 },
 "nbformat": 4,
 "nbformat_minor": 5
}
